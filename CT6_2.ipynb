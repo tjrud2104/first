{
  "nbformat": 4,
  "nbformat_minor": 0,
  "metadata": {
    "colab": {
      "provenance": [],
      "authorship_tag": "ABX9TyP3rYZh1rzjdLLY9i76PbMy",
      "include_colab_link": true
    },
    "kernelspec": {
      "name": "python3",
      "display_name": "Python 3"
    },
    "language_info": {
      "name": "python"
    }
  },
  "cells": [
    {
      "cell_type": "markdown",
      "metadata": {
        "id": "view-in-github",
        "colab_type": "text"
      },
      "source": [
        "<a href=\"https://colab.research.google.com/github/tjrud2104/first/blob/main/CT6_2.ipynb\" target=\"_parent\"><img src=\"https://colab.research.google.com/assets/colab-badge.svg\" alt=\"Open In Colab\"/></a>"
      ]
    },
    {
      "cell_type": "markdown",
      "source": [
        "학생 10명의 성적을 입력받아 평균을 계산하는 알고리즘을 의사코드로 표현해 보자"
      ],
      "metadata": {
        "id": "lq5FEglwbIju"
      }
    },
    {
      "cell_type": "code",
      "source": [
        "total=0\n",
        "counter=1\n",
        "while counter<=10:\n",
        "    grade=int(input(\"성적을 입력하세요.:\"))\n",
        "    total=grade+total\n",
        "    counter=counter+1\n",
        "    average=total/10\n",
        "print(\"학생의 평균 성적은\",  average, \"입니다.:\")\n",
        "\n"
      ],
      "metadata": {
        "colab": {
          "base_uri": "https://localhost:8080/"
        },
        "id": "kOFKDAxvbQAu",
        "outputId": "42ea4f2c-20b8-410b-a8c8-e5bdae852160"
      },
      "execution_count": 11,
      "outputs": [
        {
          "output_type": "stream",
          "name": "stdout",
          "text": [
            "성적을 입력하세요.:50\n",
            "성적을 입력하세요.:50\n",
            "성적을 입력하세요.:50\n",
            "성적을 입력하세요.:50\n",
            "성적을 입력하세요.:50\n",
            "성적을 입력하세요.:50\n",
            "성적을 입력하세요.:50\n",
            "성적을 입력하세요.:50\n",
            "성적을 입력하세요.:50\n",
            "성적을 입력하세요.:50\n",
            "학생의 평균 성적은 50.0 입니다.:\n"
          ]
        }
      ]
    }
  ]
}